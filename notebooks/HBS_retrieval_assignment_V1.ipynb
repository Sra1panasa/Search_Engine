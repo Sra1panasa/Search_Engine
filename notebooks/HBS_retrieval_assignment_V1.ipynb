{
  "cells": [
    {
      "cell_type": "code",
      "source": [
        "!pip install openai==0.28"
      ],
      "metadata": {
        "colab": {
          "base_uri": "https://localhost:8080/"
        },
        "id": "reLPI2BW7lkH",
        "outputId": "3d11e49e-5e60-4871-95cb-a09a437c03e1"
      },
      "id": "reLPI2BW7lkH",
      "execution_count": 31,
      "outputs": [
        {
          "output_type": "stream",
          "name": "stdout",
          "text": [
            "Collecting openai==0.28\n",
            "  Downloading openai-0.28.0-py3-none-any.whl (76 kB)\n",
            "\u001b[?25l     \u001b[90m━━━━━━━━━━━━━━━━━━━━━━━━━━━━━━━━━━━━━━━━\u001b[0m \u001b[32m0.0/76.5 kB\u001b[0m \u001b[31m?\u001b[0m eta \u001b[36m-:--:--\u001b[0m\r\u001b[2K     \u001b[90m━━━━━━━━━━━━━━━━━━━━━━━━━━━━━━━━━━━━━━━━\u001b[0m \u001b[32m76.5/76.5 kB\u001b[0m \u001b[31m2.2 MB/s\u001b[0m eta \u001b[36m0:00:00\u001b[0m\n",
            "\u001b[?25hRequirement already satisfied: requests>=2.20 in /usr/local/lib/python3.10/dist-packages (from openai==0.28) (2.31.0)\n",
            "Requirement already satisfied: tqdm in /usr/local/lib/python3.10/dist-packages (from openai==0.28) (4.66.2)\n",
            "Requirement already satisfied: aiohttp in /usr/local/lib/python3.10/dist-packages (from openai==0.28) (3.9.3)\n",
            "Requirement already satisfied: charset-normalizer<4,>=2 in /usr/local/lib/python3.10/dist-packages (from requests>=2.20->openai==0.28) (3.3.2)\n",
            "Requirement already satisfied: idna<4,>=2.5 in /usr/local/lib/python3.10/dist-packages (from requests>=2.20->openai==0.28) (3.6)\n",
            "Requirement already satisfied: urllib3<3,>=1.21.1 in /usr/local/lib/python3.10/dist-packages (from requests>=2.20->openai==0.28) (2.0.7)\n",
            "Requirement already satisfied: certifi>=2017.4.17 in /usr/local/lib/python3.10/dist-packages (from requests>=2.20->openai==0.28) (2024.2.2)\n",
            "Requirement already satisfied: aiosignal>=1.1.2 in /usr/local/lib/python3.10/dist-packages (from aiohttp->openai==0.28) (1.3.1)\n",
            "Requirement already satisfied: attrs>=17.3.0 in /usr/local/lib/python3.10/dist-packages (from aiohttp->openai==0.28) (23.2.0)\n",
            "Requirement already satisfied: frozenlist>=1.1.1 in /usr/local/lib/python3.10/dist-packages (from aiohttp->openai==0.28) (1.4.1)\n",
            "Requirement already satisfied: multidict<7.0,>=4.5 in /usr/local/lib/python3.10/dist-packages (from aiohttp->openai==0.28) (6.0.5)\n",
            "Requirement already satisfied: yarl<2.0,>=1.0 in /usr/local/lib/python3.10/dist-packages (from aiohttp->openai==0.28) (1.9.4)\n",
            "Requirement already satisfied: async-timeout<5.0,>=4.0 in /usr/local/lib/python3.10/dist-packages (from aiohttp->openai==0.28) (4.0.3)\n",
            "Installing collected packages: openai\n",
            "Successfully installed openai-0.28.0\n"
          ]
        }
      ]
    },
    {
      "cell_type": "markdown",
      "source": [
        "**<h4> Business Objective:**"
      ],
      "metadata": {
        "id": "52W0FWAVa4Pd"
      },
      "id": "52W0FWAVa4Pd"
    },
    {
      "cell_type": "markdown",
      "source": [
        "**Objective:**The primary goal of this notebook is to enhance the search engine for an ecommerce platform. By leveraging advanced natural language processing (NLP) techniques to significantly improve the relevance of search results."
      ],
      "metadata": {
        "id": "PPvmvHYVZG14"
      },
      "id": "PPvmvHYVZG14"
    },
    {
      "cell_type": "markdown",
      "source": [
        "**<h4> Loading DataSet:**"
      ],
      "metadata": {
        "id": "9i5N-a5hbCmD"
      },
      "id": "9i5N-a5hbCmD"
    },
    {
      "cell_type": "code",
      "execution_count": 32,
      "id": "8b781e47-2986-4c1d-b1f6-28361312aa93",
      "metadata": {
        "tags": [],
        "id": "8b781e47-2986-4c1d-b1f6-28361312aa93"
      },
      "outputs": [],
      "source": [
        "import pandas as pd\n",
        "import numpy as np\n",
        "from sklearn.feature_extraction.text import TfidfVectorizer\n",
        "from sklearn.metrics.pairwise import cosine_similarity\n",
        "import numpy as np\n",
        "import pandas as pd\n",
        "import openai"
      ]
    },
    {
      "cell_type": "code",
      "execution_count": null,
      "id": "f2384d13-941a-4c49-b903-68c5cf55ac15",
      "metadata": {
        "tags": [],
        "colab": {
          "base_uri": "https://localhost:8080/"
        },
        "id": "f2384d13-941a-4c49-b903-68c5cf55ac15",
        "outputId": "4f348b47-517b-4e53-82bf-f27e61655f76"
      },
      "outputs": [
        {
          "output_type": "stream",
          "name": "stdout",
          "text": [
            "Cloning into 'WANDS'...\n",
            "remote: Enumerating objects: 40, done.\u001b[K\n",
            "remote: Counting objects: 100% (40/40), done.\u001b[K\n",
            "remote: Compressing objects: 100% (37/37), done.\u001b[K\n",
            "remote: Total 40 (delta 7), reused 23 (delta 3), pack-reused 0\u001b[K\n",
            "Receiving objects: 100% (40/40), 33.32 MiB | 14.00 MiB/s, done.\n",
            "Resolving deltas: 100% (7/7), done.\n",
            "Updating files: 100% (19/19), done.\n"
          ]
        }
      ],
      "source": [
        "#clone the git repo that contains the data and additional information about the dataset\n",
        "!git clone https://github.com/wayfair/WANDS.git"
      ]
    },
    {
      "cell_type": "code",
      "execution_count": null,
      "id": "2e6f66b3-37d1-48b0-a9f5-fb58003f4cd5",
      "metadata": {
        "tags": [],
        "id": "2e6f66b3-37d1-48b0-a9f5-fb58003f4cd5",
        "colab": {
          "base_uri": "https://localhost:8080/",
          "height": 206
        },
        "outputId": "facf0f17-907e-471d-a7b5-d57afc197d0d"
      },
      "outputs": [
        {
          "output_type": "execute_result",
          "data": {
            "text/plain": [
              "   query_id                      query               query_class\n",
              "0         0                salon chair            Massage Chairs\n",
              "1         1         smart coffee table  Coffee & Cocktail Tables\n",
              "2         2                   dinosaur           Kids Wall Décor\n",
              "3         3          turquoise pillows            Accent Pillows\n",
              "4         4  chair and a half recliner                 Recliners"
            ],
            "text/html": [
              "\n",
              "  <div id=\"df-f88d3227-495e-45cc-9b8b-db2bf0b634d7\" class=\"colab-df-container\">\n",
              "    <div>\n",
              "<style scoped>\n",
              "    .dataframe tbody tr th:only-of-type {\n",
              "        vertical-align: middle;\n",
              "    }\n",
              "\n",
              "    .dataframe tbody tr th {\n",
              "        vertical-align: top;\n",
              "    }\n",
              "\n",
              "    .dataframe thead th {\n",
              "        text-align: right;\n",
              "    }\n",
              "</style>\n",
              "<table border=\"1\" class=\"dataframe\">\n",
              "  <thead>\n",
              "    <tr style=\"text-align: right;\">\n",
              "      <th></th>\n",
              "      <th>query_id</th>\n",
              "      <th>query</th>\n",
              "      <th>query_class</th>\n",
              "    </tr>\n",
              "  </thead>\n",
              "  <tbody>\n",
              "    <tr>\n",
              "      <th>0</th>\n",
              "      <td>0</td>\n",
              "      <td>salon chair</td>\n",
              "      <td>Massage Chairs</td>\n",
              "    </tr>\n",
              "    <tr>\n",
              "      <th>1</th>\n",
              "      <td>1</td>\n",
              "      <td>smart coffee table</td>\n",
              "      <td>Coffee &amp; Cocktail Tables</td>\n",
              "    </tr>\n",
              "    <tr>\n",
              "      <th>2</th>\n",
              "      <td>2</td>\n",
              "      <td>dinosaur</td>\n",
              "      <td>Kids Wall Décor</td>\n",
              "    </tr>\n",
              "    <tr>\n",
              "      <th>3</th>\n",
              "      <td>3</td>\n",
              "      <td>turquoise pillows</td>\n",
              "      <td>Accent Pillows</td>\n",
              "    </tr>\n",
              "    <tr>\n",
              "      <th>4</th>\n",
              "      <td>4</td>\n",
              "      <td>chair and a half recliner</td>\n",
              "      <td>Recliners</td>\n",
              "    </tr>\n",
              "  </tbody>\n",
              "</table>\n",
              "</div>\n",
              "    <div class=\"colab-df-buttons\">\n",
              "\n",
              "  <div class=\"colab-df-container\">\n",
              "    <button class=\"colab-df-convert\" onclick=\"convertToInteractive('df-f88d3227-495e-45cc-9b8b-db2bf0b634d7')\"\n",
              "            title=\"Convert this dataframe to an interactive table.\"\n",
              "            style=\"display:none;\">\n",
              "\n",
              "  <svg xmlns=\"http://www.w3.org/2000/svg\" height=\"24px\" viewBox=\"0 -960 960 960\">\n",
              "    <path d=\"M120-120v-720h720v720H120Zm60-500h600v-160H180v160Zm220 220h160v-160H400v160Zm0 220h160v-160H400v160ZM180-400h160v-160H180v160Zm440 0h160v-160H620v160ZM180-180h160v-160H180v160Zm440 0h160v-160H620v160Z\"/>\n",
              "  </svg>\n",
              "    </button>\n",
              "\n",
              "  <style>\n",
              "    .colab-df-container {\n",
              "      display:flex;\n",
              "      gap: 12px;\n",
              "    }\n",
              "\n",
              "    .colab-df-convert {\n",
              "      background-color: #E8F0FE;\n",
              "      border: none;\n",
              "      border-radius: 50%;\n",
              "      cursor: pointer;\n",
              "      display: none;\n",
              "      fill: #1967D2;\n",
              "      height: 32px;\n",
              "      padding: 0 0 0 0;\n",
              "      width: 32px;\n",
              "    }\n",
              "\n",
              "    .colab-df-convert:hover {\n",
              "      background-color: #E2EBFA;\n",
              "      box-shadow: 0px 1px 2px rgba(60, 64, 67, 0.3), 0px 1px 3px 1px rgba(60, 64, 67, 0.15);\n",
              "      fill: #174EA6;\n",
              "    }\n",
              "\n",
              "    .colab-df-buttons div {\n",
              "      margin-bottom: 4px;\n",
              "    }\n",
              "\n",
              "    [theme=dark] .colab-df-convert {\n",
              "      background-color: #3B4455;\n",
              "      fill: #D2E3FC;\n",
              "    }\n",
              "\n",
              "    [theme=dark] .colab-df-convert:hover {\n",
              "      background-color: #434B5C;\n",
              "      box-shadow: 0px 1px 3px 1px rgba(0, 0, 0, 0.15);\n",
              "      filter: drop-shadow(0px 1px 2px rgba(0, 0, 0, 0.3));\n",
              "      fill: #FFFFFF;\n",
              "    }\n",
              "  </style>\n",
              "\n",
              "    <script>\n",
              "      const buttonEl =\n",
              "        document.querySelector('#df-f88d3227-495e-45cc-9b8b-db2bf0b634d7 button.colab-df-convert');\n",
              "      buttonEl.style.display =\n",
              "        google.colab.kernel.accessAllowed ? 'block' : 'none';\n",
              "\n",
              "      async function convertToInteractive(key) {\n",
              "        const element = document.querySelector('#df-f88d3227-495e-45cc-9b8b-db2bf0b634d7');\n",
              "        const dataTable =\n",
              "          await google.colab.kernel.invokeFunction('convertToInteractive',\n",
              "                                                    [key], {});\n",
              "        if (!dataTable) return;\n",
              "\n",
              "        const docLinkHtml = 'Like what you see? Visit the ' +\n",
              "          '<a target=\"_blank\" href=https://colab.research.google.com/notebooks/data_table.ipynb>data table notebook</a>'\n",
              "          + ' to learn more about interactive tables.';\n",
              "        element.innerHTML = '';\n",
              "        dataTable['output_type'] = 'display_data';\n",
              "        await google.colab.output.renderOutput(dataTable, element);\n",
              "        const docLink = document.createElement('div');\n",
              "        docLink.innerHTML = docLinkHtml;\n",
              "        element.appendChild(docLink);\n",
              "      }\n",
              "    </script>\n",
              "  </div>\n",
              "\n",
              "\n",
              "<div id=\"df-786f5684-805e-475f-b474-1514d003b2b1\">\n",
              "  <button class=\"colab-df-quickchart\" onclick=\"quickchart('df-786f5684-805e-475f-b474-1514d003b2b1')\"\n",
              "            title=\"Suggest charts\"\n",
              "            style=\"display:none;\">\n",
              "\n",
              "<svg xmlns=\"http://www.w3.org/2000/svg\" height=\"24px\"viewBox=\"0 0 24 24\"\n",
              "     width=\"24px\">\n",
              "    <g>\n",
              "        <path d=\"M19 3H5c-1.1 0-2 .9-2 2v14c0 1.1.9 2 2 2h14c1.1 0 2-.9 2-2V5c0-1.1-.9-2-2-2zM9 17H7v-7h2v7zm4 0h-2V7h2v10zm4 0h-2v-4h2v4z\"/>\n",
              "    </g>\n",
              "</svg>\n",
              "  </button>\n",
              "\n",
              "<style>\n",
              "  .colab-df-quickchart {\n",
              "      --bg-color: #E8F0FE;\n",
              "      --fill-color: #1967D2;\n",
              "      --hover-bg-color: #E2EBFA;\n",
              "      --hover-fill-color: #174EA6;\n",
              "      --disabled-fill-color: #AAA;\n",
              "      --disabled-bg-color: #DDD;\n",
              "  }\n",
              "\n",
              "  [theme=dark] .colab-df-quickchart {\n",
              "      --bg-color: #3B4455;\n",
              "      --fill-color: #D2E3FC;\n",
              "      --hover-bg-color: #434B5C;\n",
              "      --hover-fill-color: #FFFFFF;\n",
              "      --disabled-bg-color: #3B4455;\n",
              "      --disabled-fill-color: #666;\n",
              "  }\n",
              "\n",
              "  .colab-df-quickchart {\n",
              "    background-color: var(--bg-color);\n",
              "    border: none;\n",
              "    border-radius: 50%;\n",
              "    cursor: pointer;\n",
              "    display: none;\n",
              "    fill: var(--fill-color);\n",
              "    height: 32px;\n",
              "    padding: 0;\n",
              "    width: 32px;\n",
              "  }\n",
              "\n",
              "  .colab-df-quickchart:hover {\n",
              "    background-color: var(--hover-bg-color);\n",
              "    box-shadow: 0 1px 2px rgba(60, 64, 67, 0.3), 0 1px 3px 1px rgba(60, 64, 67, 0.15);\n",
              "    fill: var(--button-hover-fill-color);\n",
              "  }\n",
              "\n",
              "  .colab-df-quickchart-complete:disabled,\n",
              "  .colab-df-quickchart-complete:disabled:hover {\n",
              "    background-color: var(--disabled-bg-color);\n",
              "    fill: var(--disabled-fill-color);\n",
              "    box-shadow: none;\n",
              "  }\n",
              "\n",
              "  .colab-df-spinner {\n",
              "    border: 2px solid var(--fill-color);\n",
              "    border-color: transparent;\n",
              "    border-bottom-color: var(--fill-color);\n",
              "    animation:\n",
              "      spin 1s steps(1) infinite;\n",
              "  }\n",
              "\n",
              "  @keyframes spin {\n",
              "    0% {\n",
              "      border-color: transparent;\n",
              "      border-bottom-color: var(--fill-color);\n",
              "      border-left-color: var(--fill-color);\n",
              "    }\n",
              "    20% {\n",
              "      border-color: transparent;\n",
              "      border-left-color: var(--fill-color);\n",
              "      border-top-color: var(--fill-color);\n",
              "    }\n",
              "    30% {\n",
              "      border-color: transparent;\n",
              "      border-left-color: var(--fill-color);\n",
              "      border-top-color: var(--fill-color);\n",
              "      border-right-color: var(--fill-color);\n",
              "    }\n",
              "    40% {\n",
              "      border-color: transparent;\n",
              "      border-right-color: var(--fill-color);\n",
              "      border-top-color: var(--fill-color);\n",
              "    }\n",
              "    60% {\n",
              "      border-color: transparent;\n",
              "      border-right-color: var(--fill-color);\n",
              "    }\n",
              "    80% {\n",
              "      border-color: transparent;\n",
              "      border-right-color: var(--fill-color);\n",
              "      border-bottom-color: var(--fill-color);\n",
              "    }\n",
              "    90% {\n",
              "      border-color: transparent;\n",
              "      border-bottom-color: var(--fill-color);\n",
              "    }\n",
              "  }\n",
              "</style>\n",
              "\n",
              "  <script>\n",
              "    async function quickchart(key) {\n",
              "      const quickchartButtonEl =\n",
              "        document.querySelector('#' + key + ' button');\n",
              "      quickchartButtonEl.disabled = true;  // To prevent multiple clicks.\n",
              "      quickchartButtonEl.classList.add('colab-df-spinner');\n",
              "      try {\n",
              "        const charts = await google.colab.kernel.invokeFunction(\n",
              "            'suggestCharts', [key], {});\n",
              "      } catch (error) {\n",
              "        console.error('Error during call to suggestCharts:', error);\n",
              "      }\n",
              "      quickchartButtonEl.classList.remove('colab-df-spinner');\n",
              "      quickchartButtonEl.classList.add('colab-df-quickchart-complete');\n",
              "    }\n",
              "    (() => {\n",
              "      let quickchartButtonEl =\n",
              "        document.querySelector('#df-786f5684-805e-475f-b474-1514d003b2b1 button');\n",
              "      quickchartButtonEl.style.display =\n",
              "        google.colab.kernel.accessAllowed ? 'block' : 'none';\n",
              "    })();\n",
              "  </script>\n",
              "</div>\n",
              "    </div>\n",
              "  </div>\n"
            ],
            "application/vnd.google.colaboratory.intrinsic+json": {
              "type": "dataframe",
              "variable_name": "query_df",
              "summary": "{\n  \"name\": \"query_df\",\n  \"rows\": 480,\n  \"fields\": [\n    {\n      \"column\": \"query_id\",\n      \"properties\": {\n        \"dtype\": \"number\",\n        \"std\": 141,\n        \"min\": 0,\n        \"max\": 487,\n        \"num_unique_values\": 480,\n        \"samples\": [\n          73,\n          420,\n          400\n        ],\n        \"semantic_type\": \"\",\n        \"description\": \"\"\n      }\n    },\n    {\n      \"column\": \"query\",\n      \"properties\": {\n        \"dtype\": \"string\",\n        \"num_unique_values\": 480,\n        \"samples\": [\n          \"certified international melamine\",\n          \"tile backsplash\",\n          \"small ladies rocker swivel recliner\"\n        ],\n        \"semantic_type\": \"\",\n        \"description\": \"\"\n      }\n    },\n    {\n      \"column\": \"query_class\",\n      \"properties\": {\n        \"dtype\": \"category\",\n        \"num_unique_values\": 188,\n        \"samples\": [\n          \"Flatware Serving Pieces\",\n          \"Dining Linens\",\n          \"Wallpaper\"\n        ],\n        \"semantic_type\": \"\",\n        \"description\": \"\"\n      }\n    }\n  ]\n}"
            }
          },
          "metadata": {},
          "execution_count": 4
        }
      ],
      "source": [
        "# get search queries\n",
        "query_df = pd.read_csv(\"WANDS/dataset/query.csv\", sep='\\t')\n",
        "query_df.head()"
      ]
    },
    {
      "cell_type": "code",
      "source": [
        "query_df.head(100).to_csv('/content/drive/MyDrive/Harvard/query.csv')"
      ],
      "metadata": {
        "id": "NkfgbgKcb5pS"
      },
      "id": "NkfgbgKcb5pS",
      "execution_count": 16,
      "outputs": []
    },
    {
      "cell_type": "code",
      "execution_count": null,
      "id": "d55b7820-00e2-4300-966c-8762d15fd407",
      "metadata": {
        "tags": [],
        "id": "d55b7820-00e2-4300-966c-8762d15fd407",
        "colab": {
          "base_uri": "https://localhost:8080/",
          "height": 625
        },
        "outputId": "7cede797-204b-4086-efa1-3c678886a13d"
      },
      "outputs": [
        {
          "output_type": "execute_result",
          "data": {
            "text/plain": [
              "   product_id                                       product_name  \\\n",
              "0           0                            solid wood platform bed   \n",
              "1           1                        all-clad 7 qt . slow cooker   \n",
              "2           2            all-clad electrics 6.5 qt . slow cooker   \n",
              "3           3       all-clad all professional tools pizza cutter   \n",
              "4           4  baldwin prestige alcott passage knob with roun...   \n",
              "\n",
              "                  product_class  \\\n",
              "0                          Beds   \n",
              "1                  Slow Cookers   \n",
              "2                  Slow Cookers   \n",
              "3  Slicers, Peelers And Graters   \n",
              "4                    Door Knobs   \n",
              "\n",
              "                                  category hierarchy  \\\n",
              "0  Furniture / Bedroom Furniture / Beds & Headboa...   \n",
              "1  Kitchen & Tabletop / Small Kitchen Appliances ...   \n",
              "2  Kitchen & Tabletop / Small Kitchen Appliances ...   \n",
              "3                         Browse By Brand / All-Clad   \n",
              "4  Home Improvement / Doors & Door Hardware / Doo...   \n",
              "\n",
              "                                 product_description  \\\n",
              "0  good , deep sleep can be quite difficult to ha...   \n",
              "1  create delicious slow-cooked meals , from tend...   \n",
              "2  prepare home-cooked meals on any schedule with...   \n",
              "3  this original stainless tool was designed to c...   \n",
              "4  the hardware has a rich heritage of delivering...   \n",
              "\n",
              "                                    product_features  rating_count  \\\n",
              "0  overallwidth-sidetoside:64.7|dsprimaryproducts...          15.0   \n",
              "1  capacityquarts:7|producttype : slow cooker|pro...         100.0   \n",
              "2  features : keep warm setting|capacityquarts:6....         208.0   \n",
              "3  overallwidth-sidetoside:3.5|warrantylength : l...          69.0   \n",
              "4  compatibledoorthickness:1.375 '' |countryofori...          70.0   \n",
              "\n",
              "   average_rating  review_count  \n",
              "0             4.5          15.0  \n",
              "1             2.0          98.0  \n",
              "2             3.0         181.0  \n",
              "3             4.5          42.0  \n",
              "4             5.0          42.0  "
            ],
            "text/html": [
              "\n",
              "  <div id=\"df-61dcd6a7-c2de-453f-8b2f-282b1fa92f06\" class=\"colab-df-container\">\n",
              "    <div>\n",
              "<style scoped>\n",
              "    .dataframe tbody tr th:only-of-type {\n",
              "        vertical-align: middle;\n",
              "    }\n",
              "\n",
              "    .dataframe tbody tr th {\n",
              "        vertical-align: top;\n",
              "    }\n",
              "\n",
              "    .dataframe thead th {\n",
              "        text-align: right;\n",
              "    }\n",
              "</style>\n",
              "<table border=\"1\" class=\"dataframe\">\n",
              "  <thead>\n",
              "    <tr style=\"text-align: right;\">\n",
              "      <th></th>\n",
              "      <th>product_id</th>\n",
              "      <th>product_name</th>\n",
              "      <th>product_class</th>\n",
              "      <th>category hierarchy</th>\n",
              "      <th>product_description</th>\n",
              "      <th>product_features</th>\n",
              "      <th>rating_count</th>\n",
              "      <th>average_rating</th>\n",
              "      <th>review_count</th>\n",
              "    </tr>\n",
              "  </thead>\n",
              "  <tbody>\n",
              "    <tr>\n",
              "      <th>0</th>\n",
              "      <td>0</td>\n",
              "      <td>solid wood platform bed</td>\n",
              "      <td>Beds</td>\n",
              "      <td>Furniture / Bedroom Furniture / Beds &amp; Headboa...</td>\n",
              "      <td>good , deep sleep can be quite difficult to ha...</td>\n",
              "      <td>overallwidth-sidetoside:64.7|dsprimaryproducts...</td>\n",
              "      <td>15.0</td>\n",
              "      <td>4.5</td>\n",
              "      <td>15.0</td>\n",
              "    </tr>\n",
              "    <tr>\n",
              "      <th>1</th>\n",
              "      <td>1</td>\n",
              "      <td>all-clad 7 qt . slow cooker</td>\n",
              "      <td>Slow Cookers</td>\n",
              "      <td>Kitchen &amp; Tabletop / Small Kitchen Appliances ...</td>\n",
              "      <td>create delicious slow-cooked meals , from tend...</td>\n",
              "      <td>capacityquarts:7|producttype : slow cooker|pro...</td>\n",
              "      <td>100.0</td>\n",
              "      <td>2.0</td>\n",
              "      <td>98.0</td>\n",
              "    </tr>\n",
              "    <tr>\n",
              "      <th>2</th>\n",
              "      <td>2</td>\n",
              "      <td>all-clad electrics 6.5 qt . slow cooker</td>\n",
              "      <td>Slow Cookers</td>\n",
              "      <td>Kitchen &amp; Tabletop / Small Kitchen Appliances ...</td>\n",
              "      <td>prepare home-cooked meals on any schedule with...</td>\n",
              "      <td>features : keep warm setting|capacityquarts:6....</td>\n",
              "      <td>208.0</td>\n",
              "      <td>3.0</td>\n",
              "      <td>181.0</td>\n",
              "    </tr>\n",
              "    <tr>\n",
              "      <th>3</th>\n",
              "      <td>3</td>\n",
              "      <td>all-clad all professional tools pizza cutter</td>\n",
              "      <td>Slicers, Peelers And Graters</td>\n",
              "      <td>Browse By Brand / All-Clad</td>\n",
              "      <td>this original stainless tool was designed to c...</td>\n",
              "      <td>overallwidth-sidetoside:3.5|warrantylength : l...</td>\n",
              "      <td>69.0</td>\n",
              "      <td>4.5</td>\n",
              "      <td>42.0</td>\n",
              "    </tr>\n",
              "    <tr>\n",
              "      <th>4</th>\n",
              "      <td>4</td>\n",
              "      <td>baldwin prestige alcott passage knob with roun...</td>\n",
              "      <td>Door Knobs</td>\n",
              "      <td>Home Improvement / Doors &amp; Door Hardware / Doo...</td>\n",
              "      <td>the hardware has a rich heritage of delivering...</td>\n",
              "      <td>compatibledoorthickness:1.375 '' |countryofori...</td>\n",
              "      <td>70.0</td>\n",
              "      <td>5.0</td>\n",
              "      <td>42.0</td>\n",
              "    </tr>\n",
              "  </tbody>\n",
              "</table>\n",
              "</div>\n",
              "    <div class=\"colab-df-buttons\">\n",
              "\n",
              "  <div class=\"colab-df-container\">\n",
              "    <button class=\"colab-df-convert\" onclick=\"convertToInteractive('df-61dcd6a7-c2de-453f-8b2f-282b1fa92f06')\"\n",
              "            title=\"Convert this dataframe to an interactive table.\"\n",
              "            style=\"display:none;\">\n",
              "\n",
              "  <svg xmlns=\"http://www.w3.org/2000/svg\" height=\"24px\" viewBox=\"0 -960 960 960\">\n",
              "    <path d=\"M120-120v-720h720v720H120Zm60-500h600v-160H180v160Zm220 220h160v-160H400v160Zm0 220h160v-160H400v160ZM180-400h160v-160H180v160Zm440 0h160v-160H620v160ZM180-180h160v-160H180v160Zm440 0h160v-160H620v160Z\"/>\n",
              "  </svg>\n",
              "    </button>\n",
              "\n",
              "  <style>\n",
              "    .colab-df-container {\n",
              "      display:flex;\n",
              "      gap: 12px;\n",
              "    }\n",
              "\n",
              "    .colab-df-convert {\n",
              "      background-color: #E8F0FE;\n",
              "      border: none;\n",
              "      border-radius: 50%;\n",
              "      cursor: pointer;\n",
              "      display: none;\n",
              "      fill: #1967D2;\n",
              "      height: 32px;\n",
              "      padding: 0 0 0 0;\n",
              "      width: 32px;\n",
              "    }\n",
              "\n",
              "    .colab-df-convert:hover {\n",
              "      background-color: #E2EBFA;\n",
              "      box-shadow: 0px 1px 2px rgba(60, 64, 67, 0.3), 0px 1px 3px 1px rgba(60, 64, 67, 0.15);\n",
              "      fill: #174EA6;\n",
              "    }\n",
              "\n",
              "    .colab-df-buttons div {\n",
              "      margin-bottom: 4px;\n",
              "    }\n",
              "\n",
              "    [theme=dark] .colab-df-convert {\n",
              "      background-color: #3B4455;\n",
              "      fill: #D2E3FC;\n",
              "    }\n",
              "\n",
              "    [theme=dark] .colab-df-convert:hover {\n",
              "      background-color: #434B5C;\n",
              "      box-shadow: 0px 1px 3px 1px rgba(0, 0, 0, 0.15);\n",
              "      filter: drop-shadow(0px 1px 2px rgba(0, 0, 0, 0.3));\n",
              "      fill: #FFFFFF;\n",
              "    }\n",
              "  </style>\n",
              "\n",
              "    <script>\n",
              "      const buttonEl =\n",
              "        document.querySelector('#df-61dcd6a7-c2de-453f-8b2f-282b1fa92f06 button.colab-df-convert');\n",
              "      buttonEl.style.display =\n",
              "        google.colab.kernel.accessAllowed ? 'block' : 'none';\n",
              "\n",
              "      async function convertToInteractive(key) {\n",
              "        const element = document.querySelector('#df-61dcd6a7-c2de-453f-8b2f-282b1fa92f06');\n",
              "        const dataTable =\n",
              "          await google.colab.kernel.invokeFunction('convertToInteractive',\n",
              "                                                    [key], {});\n",
              "        if (!dataTable) return;\n",
              "\n",
              "        const docLinkHtml = 'Like what you see? Visit the ' +\n",
              "          '<a target=\"_blank\" href=https://colab.research.google.com/notebooks/data_table.ipynb>data table notebook</a>'\n",
              "          + ' to learn more about interactive tables.';\n",
              "        element.innerHTML = '';\n",
              "        dataTable['output_type'] = 'display_data';\n",
              "        await google.colab.output.renderOutput(dataTable, element);\n",
              "        const docLink = document.createElement('div');\n",
              "        docLink.innerHTML = docLinkHtml;\n",
              "        element.appendChild(docLink);\n",
              "      }\n",
              "    </script>\n",
              "  </div>\n",
              "\n",
              "\n",
              "<div id=\"df-a6bf43f8-07d5-4c4e-ae59-919f18f9efd1\">\n",
              "  <button class=\"colab-df-quickchart\" onclick=\"quickchart('df-a6bf43f8-07d5-4c4e-ae59-919f18f9efd1')\"\n",
              "            title=\"Suggest charts\"\n",
              "            style=\"display:none;\">\n",
              "\n",
              "<svg xmlns=\"http://www.w3.org/2000/svg\" height=\"24px\"viewBox=\"0 0 24 24\"\n",
              "     width=\"24px\">\n",
              "    <g>\n",
              "        <path d=\"M19 3H5c-1.1 0-2 .9-2 2v14c0 1.1.9 2 2 2h14c1.1 0 2-.9 2-2V5c0-1.1-.9-2-2-2zM9 17H7v-7h2v7zm4 0h-2V7h2v10zm4 0h-2v-4h2v4z\"/>\n",
              "    </g>\n",
              "</svg>\n",
              "  </button>\n",
              "\n",
              "<style>\n",
              "  .colab-df-quickchart {\n",
              "      --bg-color: #E8F0FE;\n",
              "      --fill-color: #1967D2;\n",
              "      --hover-bg-color: #E2EBFA;\n",
              "      --hover-fill-color: #174EA6;\n",
              "      --disabled-fill-color: #AAA;\n",
              "      --disabled-bg-color: #DDD;\n",
              "  }\n",
              "\n",
              "  [theme=dark] .colab-df-quickchart {\n",
              "      --bg-color: #3B4455;\n",
              "      --fill-color: #D2E3FC;\n",
              "      --hover-bg-color: #434B5C;\n",
              "      --hover-fill-color: #FFFFFF;\n",
              "      --disabled-bg-color: #3B4455;\n",
              "      --disabled-fill-color: #666;\n",
              "  }\n",
              "\n",
              "  .colab-df-quickchart {\n",
              "    background-color: var(--bg-color);\n",
              "    border: none;\n",
              "    border-radius: 50%;\n",
              "    cursor: pointer;\n",
              "    display: none;\n",
              "    fill: var(--fill-color);\n",
              "    height: 32px;\n",
              "    padding: 0;\n",
              "    width: 32px;\n",
              "  }\n",
              "\n",
              "  .colab-df-quickchart:hover {\n",
              "    background-color: var(--hover-bg-color);\n",
              "    box-shadow: 0 1px 2px rgba(60, 64, 67, 0.3), 0 1px 3px 1px rgba(60, 64, 67, 0.15);\n",
              "    fill: var(--button-hover-fill-color);\n",
              "  }\n",
              "\n",
              "  .colab-df-quickchart-complete:disabled,\n",
              "  .colab-df-quickchart-complete:disabled:hover {\n",
              "    background-color: var(--disabled-bg-color);\n",
              "    fill: var(--disabled-fill-color);\n",
              "    box-shadow: none;\n",
              "  }\n",
              "\n",
              "  .colab-df-spinner {\n",
              "    border: 2px solid var(--fill-color);\n",
              "    border-color: transparent;\n",
              "    border-bottom-color: var(--fill-color);\n",
              "    animation:\n",
              "      spin 1s steps(1) infinite;\n",
              "  }\n",
              "\n",
              "  @keyframes spin {\n",
              "    0% {\n",
              "      border-color: transparent;\n",
              "      border-bottom-color: var(--fill-color);\n",
              "      border-left-color: var(--fill-color);\n",
              "    }\n",
              "    20% {\n",
              "      border-color: transparent;\n",
              "      border-left-color: var(--fill-color);\n",
              "      border-top-color: var(--fill-color);\n",
              "    }\n",
              "    30% {\n",
              "      border-color: transparent;\n",
              "      border-left-color: var(--fill-color);\n",
              "      border-top-color: var(--fill-color);\n",
              "      border-right-color: var(--fill-color);\n",
              "    }\n",
              "    40% {\n",
              "      border-color: transparent;\n",
              "      border-right-color: var(--fill-color);\n",
              "      border-top-color: var(--fill-color);\n",
              "    }\n",
              "    60% {\n",
              "      border-color: transparent;\n",
              "      border-right-color: var(--fill-color);\n",
              "    }\n",
              "    80% {\n",
              "      border-color: transparent;\n",
              "      border-right-color: var(--fill-color);\n",
              "      border-bottom-color: var(--fill-color);\n",
              "    }\n",
              "    90% {\n",
              "      border-color: transparent;\n",
              "      border-bottom-color: var(--fill-color);\n",
              "    }\n",
              "  }\n",
              "</style>\n",
              "\n",
              "  <script>\n",
              "    async function quickchart(key) {\n",
              "      const quickchartButtonEl =\n",
              "        document.querySelector('#' + key + ' button');\n",
              "      quickchartButtonEl.disabled = true;  // To prevent multiple clicks.\n",
              "      quickchartButtonEl.classList.add('colab-df-spinner');\n",
              "      try {\n",
              "        const charts = await google.colab.kernel.invokeFunction(\n",
              "            'suggestCharts', [key], {});\n",
              "      } catch (error) {\n",
              "        console.error('Error during call to suggestCharts:', error);\n",
              "      }\n",
              "      quickchartButtonEl.classList.remove('colab-df-spinner');\n",
              "      quickchartButtonEl.classList.add('colab-df-quickchart-complete');\n",
              "    }\n",
              "    (() => {\n",
              "      let quickchartButtonEl =\n",
              "        document.querySelector('#df-a6bf43f8-07d5-4c4e-ae59-919f18f9efd1 button');\n",
              "      quickchartButtonEl.style.display =\n",
              "        google.colab.kernel.accessAllowed ? 'block' : 'none';\n",
              "    })();\n",
              "  </script>\n",
              "</div>\n",
              "    </div>\n",
              "  </div>\n"
            ],
            "application/vnd.google.colaboratory.intrinsic+json": {
              "type": "dataframe",
              "variable_name": "product_df",
              "summary": "{\n  \"name\": \"product_df\",\n  \"rows\": 42994,\n  \"fields\": [\n    {\n      \"column\": \"product_id\",\n      \"properties\": {\n        \"dtype\": \"number\",\n        \"std\": 12411,\n        \"min\": 0,\n        \"max\": 42993,\n        \"num_unique_values\": 42994,\n        \"samples\": [\n          32193,\n          21379,\n          42275\n        ],\n        \"semantic_type\": \"\",\n        \"description\": \"\"\n      }\n    },\n    {\n      \"column\": \"product_name\",\n      \"properties\": {\n        \"dtype\": \"string\",\n        \"num_unique_values\": 42577,\n        \"samples\": [\n          \"standard single hole bathroom faucet\",\n          \"marshaw wardrobe\",\n          \"sanner 55 '' wide power standard recliner\"\n        ],\n        \"semantic_type\": \"\",\n        \"description\": \"\"\n      }\n    },\n    {\n      \"column\": \"product_class\",\n      \"properties\": {\n        \"dtype\": \"category\",\n        \"num_unique_values\": 860,\n        \"samples\": [\n          \"Hall Trees|Benches\",\n          \"Patio Dining Sets|Patio Tables\",\n          \"Kitchen Islands\"\n        ],\n        \"semantic_type\": \"\",\n        \"description\": \"\"\n      }\n    },\n    {\n      \"column\": \"category hierarchy\",\n      \"properties\": {\n        \"dtype\": \"category\",\n        \"num_unique_values\": 1623,\n        \"samples\": [\n          \"Outdoor / Outdoor & Patio Furniture / Patio Furniture Sets / Patio Dining Sets\",\n          \"Kitchen & Tabletop / Kitchen Utensils & Tools / Knives & Accessories / Knife Sets / Starter Knife Sets\",\n          \"Home Improvement / Flooring, Walls & Ceiling / Floor Tiles & Wall Tiles / Shell Floor Tiles & Wall Tiles\"\n        ],\n        \"semantic_type\": \"\",\n        \"description\": \"\"\n      }\n    },\n    {\n      \"column\": \"product_description\",\n      \"properties\": {\n        \"dtype\": \"string\",\n        \"num_unique_values\": 33836,\n        \"samples\": [\n          \"get a fun novelty street sign for your home and office and show off your sense of humor . looking for a fun , hilarious street sign to hang on your cubicle or in your & ldquo ; man cave '' ? if so signmission has all the cute , funny , hilarious , and even work-related novelty signs you 're looking for ! something for everyone we 've got a wide range of american-made signs just like this sign that will tickle your funny bone , make others smile , or even show off your snarky attitude . made to last made from a special plastic designed to hold up to a beating , this sign can bend without breaking and will never chip or crack , the colorful lettering will last a lifetime indoors and up to 4 years in the sun for outdoor use .\",\n          \"greet two-legged and four-legged guests alike with this canine-friendly doormat ! it 's crafted in india from coir \\u2013 a natural fiber derived from coconut husks that scrape shoes clean \\u2013 with a beige hue , and it has an all-weather design that stands up to rain , wind , and other elements . this rectangular doormat showcases the word \\u201c welcome \\u201d adorned with a paw print \\u201c o \\u201d set in a thick 1 '' pile in the middle . plus , it comes with a 100 % rubber casing with a non-slip backing so it won \\u2019 t shift or while you \\u2019 re scuffing off your boots .\",\n          \"let this high-quality iron king size bed frame bring sophistication to your bedroom . with a gorgeous dark antique brass finish and intricate scrolling design , this bed frame will make your bedroom exude elegance . the rectangular shape makes it easier to match with bedrooms of all shapes and sizes . the metal material of this bed frame is high-quality iron selected after many tests , so you do n't have to worry about this bed frame not being strong enough , you just need to get comfortable and go to dreamland .\"\n        ],\n        \"semantic_type\": \"\",\n        \"description\": \"\"\n      }\n    },\n    {\n      \"column\": \"product_features\",\n      \"properties\": {\n        \"dtype\": \"string\",\n        \"num_unique_values\": 42979,\n        \"samples\": [\n          \"materialdetails : brass|levelofassembly : partial assembly|features : none|glassfeatures : tempered|shelfdepth-fronttoback:4.45|internalonly-roomuse : living|wallmountingtype : anchor + screw|material : glass|overalldepth-fronttoback:4.45|additionaltoolsrequirednotincluded : power drill|style : modern & contemporary|supplierintendedandapproveduse : non residential use|roomuse : bathroom|producttype : bracket shelf|shape : rectangle|finish : chrome plated|overallheight-toptobottom:1.65|overallproductweight:1.41|overallwidth-sidetoside:23.62|overallweightcapacity:30|warrantylength:2 years|countryoforigin : taiwan|countryoforigin-additionaldetails : made in taiwan|warrantylength : lifetime|shelfwidth-sidetoside:23.62|totalnumberofpiecesincluded:1|numberofshelves:1|numberofinstallationholes:2|uniformpackagingandlabelingregulationsuplrcompliant : no|compositewoodproductcwp : no| : no|canadaproductrestriction : no|adjustableshelves : no|avoidpowertools : no|commercialwarranty : yes|cpsc-16cfr1303compliant : yes|installationrequired : yes|productwarranty : yes|adultassemblyrequired : yes|sor2016-193-surfacecoatingmaterialsregulations : yes|assemblyhardwareincluded : yes|material : metal|fullorlimitedwarranty : limited|supplierintendedandapproveduse : residential use\",\n          \"sheetcolor : blue|theme : animal|cribsizeshape : standard crib|greenguardgoldcertified : |typeofsheetsincluded : fitted sheet|animal : safari / jungle|overallwidth-sidetoside:32|overallproductweight:2.3|piecesincluded:1 quilt , 1 skirt , and 1 fitted sheet|greenguardcertified : |dryingmethod : tumble dry|material : polyester|overallthickness-fronttoback:0.25|washingmethod : delicate cycle|totalnumberofpiecesincluded:3|overalllength-headtotoe:42|fillmaterial : polyester/polyfill|gender : gender neutral|washingmethod : machine wash|color : blue/yellow/beige|numberofsheetsincluded:1|numberofdustrufflescribskirtsincluded:1|numberofblanketsquiltsincluded:1|railguardcover : no|licensedproduct : no|changingpadcoverincluded : no| : no|pillowcaseincluded : no|additionalitem : no|reversible : no|mobileincluded : no|pillowsincluded : no|children \\u2019 sproductcertificatecpc : no|astmf1917-12compliant : no|toybagincluded : no|diaperstackerincluded : no|walldcor : no|mobile : no|pillow : no|walldcorincluded : no|railguardcoverincluded : no|oeko-texcertified : no|changingpadcover : no|pillowcase : no|bumperincluded : no|bumper : no|bib : no|organic : no|knitted : no|additionalitemsincluded : no|diaperstacker : no|bibincluded : no|toybag : no|windowtreatmentsincluded : no|windowtreatment : no| : yes|dustrufflecribskirtincluded : yes|blanketquiltincluded : yes|sheetsincluded : yes|cpsc-16cfr1303compliant : yes|sor2018-83-consumerproductscontainingleadregulations : yes|dustrufflecribskirt : yes|cpsc-16cfr1500.49compliant : yes|blanketquilt : yes|sheet : yes|embroidered : yes|countryoforigin : china\",\n          \"producttype : privacy screen|panellength-endtoend:45|supplierintendedandapproveduse : non residential use|overallheight-toptobottom:48|overalldepth-fronttoback:36|warrantydetails : warranty only covers residential use|overallproductweight:9|overallwidth-sidetoside:36|primarymaterial : vinyl|warrantylength:10 years|color : white|panelwidth-sidetoside:36|primarymaterialdetails : polyvinyl chloride|productcare : spray with garden hose or use cloth and mild cleanser|piecesincluded:2 privacy screens|heighttobottomoffence:2|stainable : no|gatehardwareincluded : no|commercialwarranty : no| : no|panelsincluded : no|fencepostanchorincluded : no|californiaproposition65warningrequired : no|post : no|compositewoodproductcwp : no|postrequired : no|uvresistant : yes|adultassemblyrequired : yes|installationrequired : yes|waterresistant : yes|productwarranty : yes|paintable : yes|weatherresistant : yes|doublesided : yes|countryoforigin : china|fullorlimitedwarranty : limited|supplierintendedandapproveduse : residential use\"\n        ],\n        \"semantic_type\": \"\",\n        \"description\": \"\"\n      }\n    },\n    {\n      \"column\": \"rating_count\",\n      \"properties\": {\n        \"dtype\": \"number\",\n        \"std\": 2407.9215791531997,\n        \"min\": 1.0,\n        \"max\": 109226.0,\n        \"num_unique_values\": 2861,\n        \"samples\": [\n          801.0,\n          18183.0,\n          690.0\n        ],\n        \"semantic_type\": \"\",\n        \"description\": \"\"\n      }\n    },\n    {\n      \"column\": \"average_rating\",\n      \"properties\": {\n        \"dtype\": \"number\",\n        \"std\": 0.5092626796749085,\n        \"min\": 1.0,\n        \"max\": 5.0,\n        \"num_unique_values\": 9,\n        \"samples\": [\n          3.5,\n          2.0,\n          4.0\n        ],\n        \"semantic_type\": \"\",\n        \"description\": \"\"\n      }\n    },\n    {\n      \"column\": \"review_count\",\n      \"properties\": {\n        \"dtype\": \"number\",\n        \"std\": 1539.6117373952231,\n        \"min\": 0.0,\n        \"max\": 61362.0,\n        \"num_unique_values\": 2310,\n        \"samples\": [\n          1430.0,\n          1489.0,\n          1663.0\n        ],\n        \"semantic_type\": \"\",\n        \"description\": \"\"\n      }\n    }\n  ]\n}"
            }
          },
          "metadata": {},
          "execution_count": 5
        }
      ],
      "source": [
        "# get products\n",
        "product_df = pd.read_csv(\"WANDS/dataset/product.csv\", sep='\\t')\n",
        "product_df.head()"
      ]
    },
    {
      "cell_type": "code",
      "source": [
        "product_df.head(100).to_csv('/content/drive/MyDrive/Harvard/product.csv')"
      ],
      "metadata": {
        "id": "Y2Mqyzxxd1oQ"
      },
      "id": "Y2Mqyzxxd1oQ",
      "execution_count": 17,
      "outputs": []
    },
    {
      "cell_type": "code",
      "execution_count": null,
      "id": "61d75f84-1152-43c7-b2a0-422267ab2298",
      "metadata": {
        "tags": [],
        "id": "61d75f84-1152-43c7-b2a0-422267ab2298",
        "colab": {
          "base_uri": "https://localhost:8080/",
          "height": 206
        },
        "outputId": "fee526de-f5c4-4709-d021-72fef4d65b7a"
      },
      "outputs": [
        {
          "output_type": "execute_result",
          "data": {
            "text/plain": [
              "   id  query_id  product_id       label\n",
              "0   0         0       25434       Exact\n",
              "1   1         0       12088  Irrelevant\n",
              "2   2         0       42931       Exact\n",
              "3   3         0        2636       Exact\n",
              "4   4         0       42923       Exact"
            ],
            "text/html": [
              "\n",
              "  <div id=\"df-f5951294-1486-4933-a627-46465859cbc8\" class=\"colab-df-container\">\n",
              "    <div>\n",
              "<style scoped>\n",
              "    .dataframe tbody tr th:only-of-type {\n",
              "        vertical-align: middle;\n",
              "    }\n",
              "\n",
              "    .dataframe tbody tr th {\n",
              "        vertical-align: top;\n",
              "    }\n",
              "\n",
              "    .dataframe thead th {\n",
              "        text-align: right;\n",
              "    }\n",
              "</style>\n",
              "<table border=\"1\" class=\"dataframe\">\n",
              "  <thead>\n",
              "    <tr style=\"text-align: right;\">\n",
              "      <th></th>\n",
              "      <th>id</th>\n",
              "      <th>query_id</th>\n",
              "      <th>product_id</th>\n",
              "      <th>label</th>\n",
              "    </tr>\n",
              "  </thead>\n",
              "  <tbody>\n",
              "    <tr>\n",
              "      <th>0</th>\n",
              "      <td>0</td>\n",
              "      <td>0</td>\n",
              "      <td>25434</td>\n",
              "      <td>Exact</td>\n",
              "    </tr>\n",
              "    <tr>\n",
              "      <th>1</th>\n",
              "      <td>1</td>\n",
              "      <td>0</td>\n",
              "      <td>12088</td>\n",
              "      <td>Irrelevant</td>\n",
              "    </tr>\n",
              "    <tr>\n",
              "      <th>2</th>\n",
              "      <td>2</td>\n",
              "      <td>0</td>\n",
              "      <td>42931</td>\n",
              "      <td>Exact</td>\n",
              "    </tr>\n",
              "    <tr>\n",
              "      <th>3</th>\n",
              "      <td>3</td>\n",
              "      <td>0</td>\n",
              "      <td>2636</td>\n",
              "      <td>Exact</td>\n",
              "    </tr>\n",
              "    <tr>\n",
              "      <th>4</th>\n",
              "      <td>4</td>\n",
              "      <td>0</td>\n",
              "      <td>42923</td>\n",
              "      <td>Exact</td>\n",
              "    </tr>\n",
              "  </tbody>\n",
              "</table>\n",
              "</div>\n",
              "    <div class=\"colab-df-buttons\">\n",
              "\n",
              "  <div class=\"colab-df-container\">\n",
              "    <button class=\"colab-df-convert\" onclick=\"convertToInteractive('df-f5951294-1486-4933-a627-46465859cbc8')\"\n",
              "            title=\"Convert this dataframe to an interactive table.\"\n",
              "            style=\"display:none;\">\n",
              "\n",
              "  <svg xmlns=\"http://www.w3.org/2000/svg\" height=\"24px\" viewBox=\"0 -960 960 960\">\n",
              "    <path d=\"M120-120v-720h720v720H120Zm60-500h600v-160H180v160Zm220 220h160v-160H400v160Zm0 220h160v-160H400v160ZM180-400h160v-160H180v160Zm440 0h160v-160H620v160ZM180-180h160v-160H180v160Zm440 0h160v-160H620v160Z\"/>\n",
              "  </svg>\n",
              "    </button>\n",
              "\n",
              "  <style>\n",
              "    .colab-df-container {\n",
              "      display:flex;\n",
              "      gap: 12px;\n",
              "    }\n",
              "\n",
              "    .colab-df-convert {\n",
              "      background-color: #E8F0FE;\n",
              "      border: none;\n",
              "      border-radius: 50%;\n",
              "      cursor: pointer;\n",
              "      display: none;\n",
              "      fill: #1967D2;\n",
              "      height: 32px;\n",
              "      padding: 0 0 0 0;\n",
              "      width: 32px;\n",
              "    }\n",
              "\n",
              "    .colab-df-convert:hover {\n",
              "      background-color: #E2EBFA;\n",
              "      box-shadow: 0px 1px 2px rgba(60, 64, 67, 0.3), 0px 1px 3px 1px rgba(60, 64, 67, 0.15);\n",
              "      fill: #174EA6;\n",
              "    }\n",
              "\n",
              "    .colab-df-buttons div {\n",
              "      margin-bottom: 4px;\n",
              "    }\n",
              "\n",
              "    [theme=dark] .colab-df-convert {\n",
              "      background-color: #3B4455;\n",
              "      fill: #D2E3FC;\n",
              "    }\n",
              "\n",
              "    [theme=dark] .colab-df-convert:hover {\n",
              "      background-color: #434B5C;\n",
              "      box-shadow: 0px 1px 3px 1px rgba(0, 0, 0, 0.15);\n",
              "      filter: drop-shadow(0px 1px 2px rgba(0, 0, 0, 0.3));\n",
              "      fill: #FFFFFF;\n",
              "    }\n",
              "  </style>\n",
              "\n",
              "    <script>\n",
              "      const buttonEl =\n",
              "        document.querySelector('#df-f5951294-1486-4933-a627-46465859cbc8 button.colab-df-convert');\n",
              "      buttonEl.style.display =\n",
              "        google.colab.kernel.accessAllowed ? 'block' : 'none';\n",
              "\n",
              "      async function convertToInteractive(key) {\n",
              "        const element = document.querySelector('#df-f5951294-1486-4933-a627-46465859cbc8');\n",
              "        const dataTable =\n",
              "          await google.colab.kernel.invokeFunction('convertToInteractive',\n",
              "                                                    [key], {});\n",
              "        if (!dataTable) return;\n",
              "\n",
              "        const docLinkHtml = 'Like what you see? Visit the ' +\n",
              "          '<a target=\"_blank\" href=https://colab.research.google.com/notebooks/data_table.ipynb>data table notebook</a>'\n",
              "          + ' to learn more about interactive tables.';\n",
              "        element.innerHTML = '';\n",
              "        dataTable['output_type'] = 'display_data';\n",
              "        await google.colab.output.renderOutput(dataTable, element);\n",
              "        const docLink = document.createElement('div');\n",
              "        docLink.innerHTML = docLinkHtml;\n",
              "        element.appendChild(docLink);\n",
              "      }\n",
              "    </script>\n",
              "  </div>\n",
              "\n",
              "\n",
              "<div id=\"df-fef5bc48-765e-415b-bf28-542974d65ea5\">\n",
              "  <button class=\"colab-df-quickchart\" onclick=\"quickchart('df-fef5bc48-765e-415b-bf28-542974d65ea5')\"\n",
              "            title=\"Suggest charts\"\n",
              "            style=\"display:none;\">\n",
              "\n",
              "<svg xmlns=\"http://www.w3.org/2000/svg\" height=\"24px\"viewBox=\"0 0 24 24\"\n",
              "     width=\"24px\">\n",
              "    <g>\n",
              "        <path d=\"M19 3H5c-1.1 0-2 .9-2 2v14c0 1.1.9 2 2 2h14c1.1 0 2-.9 2-2V5c0-1.1-.9-2-2-2zM9 17H7v-7h2v7zm4 0h-2V7h2v10zm4 0h-2v-4h2v4z\"/>\n",
              "    </g>\n",
              "</svg>\n",
              "  </button>\n",
              "\n",
              "<style>\n",
              "  .colab-df-quickchart {\n",
              "      --bg-color: #E8F0FE;\n",
              "      --fill-color: #1967D2;\n",
              "      --hover-bg-color: #E2EBFA;\n",
              "      --hover-fill-color: #174EA6;\n",
              "      --disabled-fill-color: #AAA;\n",
              "      --disabled-bg-color: #DDD;\n",
              "  }\n",
              "\n",
              "  [theme=dark] .colab-df-quickchart {\n",
              "      --bg-color: #3B4455;\n",
              "      --fill-color: #D2E3FC;\n",
              "      --hover-bg-color: #434B5C;\n",
              "      --hover-fill-color: #FFFFFF;\n",
              "      --disabled-bg-color: #3B4455;\n",
              "      --disabled-fill-color: #666;\n",
              "  }\n",
              "\n",
              "  .colab-df-quickchart {\n",
              "    background-color: var(--bg-color);\n",
              "    border: none;\n",
              "    border-radius: 50%;\n",
              "    cursor: pointer;\n",
              "    display: none;\n",
              "    fill: var(--fill-color);\n",
              "    height: 32px;\n",
              "    padding: 0;\n",
              "    width: 32px;\n",
              "  }\n",
              "\n",
              "  .colab-df-quickchart:hover {\n",
              "    background-color: var(--hover-bg-color);\n",
              "    box-shadow: 0 1px 2px rgba(60, 64, 67, 0.3), 0 1px 3px 1px rgba(60, 64, 67, 0.15);\n",
              "    fill: var(--button-hover-fill-color);\n",
              "  }\n",
              "\n",
              "  .colab-df-quickchart-complete:disabled,\n",
              "  .colab-df-quickchart-complete:disabled:hover {\n",
              "    background-color: var(--disabled-bg-color);\n",
              "    fill: var(--disabled-fill-color);\n",
              "    box-shadow: none;\n",
              "  }\n",
              "\n",
              "  .colab-df-spinner {\n",
              "    border: 2px solid var(--fill-color);\n",
              "    border-color: transparent;\n",
              "    border-bottom-color: var(--fill-color);\n",
              "    animation:\n",
              "      spin 1s steps(1) infinite;\n",
              "  }\n",
              "\n",
              "  @keyframes spin {\n",
              "    0% {\n",
              "      border-color: transparent;\n",
              "      border-bottom-color: var(--fill-color);\n",
              "      border-left-color: var(--fill-color);\n",
              "    }\n",
              "    20% {\n",
              "      border-color: transparent;\n",
              "      border-left-color: var(--fill-color);\n",
              "      border-top-color: var(--fill-color);\n",
              "    }\n",
              "    30% {\n",
              "      border-color: transparent;\n",
              "      border-left-color: var(--fill-color);\n",
              "      border-top-color: var(--fill-color);\n",
              "      border-right-color: var(--fill-color);\n",
              "    }\n",
              "    40% {\n",
              "      border-color: transparent;\n",
              "      border-right-color: var(--fill-color);\n",
              "      border-top-color: var(--fill-color);\n",
              "    }\n",
              "    60% {\n",
              "      border-color: transparent;\n",
              "      border-right-color: var(--fill-color);\n",
              "    }\n",
              "    80% {\n",
              "      border-color: transparent;\n",
              "      border-right-color: var(--fill-color);\n",
              "      border-bottom-color: var(--fill-color);\n",
              "    }\n",
              "    90% {\n",
              "      border-color: transparent;\n",
              "      border-bottom-color: var(--fill-color);\n",
              "    }\n",
              "  }\n",
              "</style>\n",
              "\n",
              "  <script>\n",
              "    async function quickchart(key) {\n",
              "      const quickchartButtonEl =\n",
              "        document.querySelector('#' + key + ' button');\n",
              "      quickchartButtonEl.disabled = true;  // To prevent multiple clicks.\n",
              "      quickchartButtonEl.classList.add('colab-df-spinner');\n",
              "      try {\n",
              "        const charts = await google.colab.kernel.invokeFunction(\n",
              "            'suggestCharts', [key], {});\n",
              "      } catch (error) {\n",
              "        console.error('Error during call to suggestCharts:', error);\n",
              "      }\n",
              "      quickchartButtonEl.classList.remove('colab-df-spinner');\n",
              "      quickchartButtonEl.classList.add('colab-df-quickchart-complete');\n",
              "    }\n",
              "    (() => {\n",
              "      let quickchartButtonEl =\n",
              "        document.querySelector('#df-fef5bc48-765e-415b-bf28-542974d65ea5 button');\n",
              "      quickchartButtonEl.style.display =\n",
              "        google.colab.kernel.accessAllowed ? 'block' : 'none';\n",
              "    })();\n",
              "  </script>\n",
              "</div>\n",
              "    </div>\n",
              "  </div>\n"
            ],
            "application/vnd.google.colaboratory.intrinsic+json": {
              "type": "dataframe",
              "variable_name": "label_df"
            }
          },
          "metadata": {},
          "execution_count": 6
        }
      ],
      "source": [
        "# get manually labeled groundtruth lables\n",
        "label_df = pd.read_csv(\"WANDS/dataset/label.csv\", sep='\\t')\n",
        "label_df.head()"
      ]
    },
    {
      "cell_type": "code",
      "source": [
        "label_df.head(100).to_csv('/content/drive/MyDrive/Harvard/lable.csv')"
      ],
      "metadata": {
        "id": "Qtd2BcRRg-gV"
      },
      "id": "Qtd2BcRRg-gV",
      "execution_count": 18,
      "outputs": []
    },
    {
      "cell_type": "markdown",
      "source": [
        "**<h4> Data Visualization:**\n",
        "\n",
        "* Considering the time doing very basic visualization."
      ],
      "metadata": {
        "id": "Z0zEOcrOjhqO"
      },
      "id": "Z0zEOcrOjhqO"
    },
    {
      "cell_type": "code",
      "source": [
        "print(product_df.shape)\n",
        "print(label_df.shape)\n",
        "print(query_df.shape)"
      ],
      "metadata": {
        "colab": {
          "base_uri": "https://localhost:8080/"
        },
        "id": "G2Er7mANjrSO",
        "outputId": "88f29fc7-569c-43ab-9b75-8aceb8eb6c22"
      },
      "id": "G2Er7mANjrSO",
      "execution_count": 19,
      "outputs": [
        {
          "output_type": "stream",
          "name": "stdout",
          "text": [
            "(42994, 9)\n",
            "(233448, 4)\n",
            "(480, 3)\n"
          ]
        }
      ]
    },
    {
      "cell_type": "code",
      "source": [
        "product_df.isnull().sum()"
      ],
      "metadata": {
        "colab": {
          "base_uri": "https://localhost:8080/"
        },
        "id": "-Bxm-5cMlQDS",
        "outputId": "00037862-f046-4da9-cc8c-92c80d133a31"
      },
      "id": "-Bxm-5cMlQDS",
      "execution_count": 21,
      "outputs": [
        {
          "output_type": "execute_result",
          "data": {
            "text/plain": [
              "product_id                0\n",
              "product_name              0\n",
              "product_class          2852\n",
              "category hierarchy     1556\n",
              "product_description    6008\n",
              "product_features          0\n",
              "rating_count           9452\n",
              "average_rating         9452\n",
              "review_count           9452\n",
              "dtype: int64"
            ]
          },
          "metadata": {},
          "execution_count": 21
        }
      ]
    },
    {
      "cell_type": "code",
      "source": [
        "query_df.isnull().sum()"
      ],
      "metadata": {
        "colab": {
          "base_uri": "https://localhost:8080/"
        },
        "id": "G1IPpy7Plh1B",
        "outputId": "75c5d774-5fd8-4736-97b7-09306a8bb271"
      },
      "id": "G1IPpy7Plh1B",
      "execution_count": 22,
      "outputs": [
        {
          "output_type": "execute_result",
          "data": {
            "text/plain": [
              "query_id       0\n",
              "query          0\n",
              "query_class    6\n",
              "dtype: int64"
            ]
          },
          "metadata": {},
          "execution_count": 22
        }
      ]
    },
    {
      "cell_type": "code",
      "source": [
        "label_df.isnull().sum()"
      ],
      "metadata": {
        "colab": {
          "base_uri": "https://localhost:8080/"
        },
        "id": "OvCyktOVl6ad",
        "outputId": "c15b0ec9-f1c8-46b2-85b3-7f58a07cc5bd"
      },
      "id": "OvCyktOVl6ad",
      "execution_count": 23,
      "outputs": [
        {
          "output_type": "execute_result",
          "data": {
            "text/plain": [
              "id            0\n",
              "query_id      0\n",
              "product_id    0\n",
              "label         0\n",
              "dtype: int64"
            ]
          },
          "metadata": {},
          "execution_count": 23
        }
      ]
    },
    {
      "cell_type": "markdown",
      "source": [
        "Note: We have nulls in the dataset we need to handle them in preprocessing."
      ],
      "metadata": {
        "id": "vJUexU1OmkwG"
      },
      "id": "vJUexU1OmkwG"
    },
    {
      "cell_type": "markdown",
      "source": [
        "**<h4> Data Preprocessing:**\n",
        "\n",
        "* **Handling Null Values:** addressing potential missing data in key text columns—product_name, category hierarchy, and product_description—by filling any null values with an empty string ('').\n",
        "\n",
        "* **Product Names and Category Hierarchy:** We apply a simple lowercase transformation to standardize the text, which helps in maintaining consistency and reducing complexity during the search process.\n",
        "\n",
        "* **Product Descriptions:** This column undergoes a more extensive preprocessing Converting to lowercase, removing stopwords,lemmatization to enhance the meaningful content description.\n",
        "\n",
        "**Note:** 1) If we are using LLM models we can skip this step as they can understand context without any preprocessing.\n",
        "\n",
        "2) I see that adding Category Hierarchy increases MAE by 10% so adding new column for the given code."
      ],
      "metadata": {
        "id": "W08IyjNlsfc1"
      },
      "id": "W08IyjNlsfc1"
    },
    {
      "cell_type": "code",
      "source": [
        "# Handling nulls with empty string\n",
        "product_df['product_name'] = product_df['product_name'].fillna('')\n",
        "product_df['category hierarchy'] = product_df['category hierarchy'].fillna('')\n",
        "product_df['product_description'] = product_df['product_description'].fillna('')"
      ],
      "metadata": {
        "id": "vIaatkJwmjVg"
      },
      "id": "vIaatkJwmjVg",
      "execution_count": 24,
      "outputs": []
    },
    {
      "cell_type": "code",
      "source": [
        "import re\n",
        "from nltk.corpus import stopwords\n",
        "from nltk.stem import WordNetLemmatizer\n",
        "import nltk\n",
        "\n",
        "nltk.download('stopwords')\n",
        "nltk.download('wordnet')\n",
        "\n",
        "# Setup lemmatizer and stopwords\n",
        "lemmatizer = WordNetLemmatizer()\n",
        "stop_words = set(stopwords.words('english'))\n",
        "\n",
        "def preprocess_description(text):\n",
        "    text = text.lower()\n",
        "    text = re.sub(r'[^\\w\\s]', '', text)\n",
        "    text = ' '.join([lemmatizer.lemmatize(word) for word in text.split() if word not in stop_words])\n",
        "    return text\n",
        "\n",
        "# Lowercasing product names and categories\n",
        "product_df['product_name'] = product_df['product_name'].str.lower()\n",
        "product_df['category hierarchy'] = product_df['category hierarchy'].str.lower()\n",
        "\n",
        "# Apply preprocessing to product descriptions\n",
        "product_df['product_description'] = product_df['product_description'].apply(preprocess_description)\n",
        "\n",
        "# Combine the columns and clean extra spaces\n",
        "product_df['combined_text'] = product_df['product_name'] + \" \" + product_df['category hierarchy'] + \" \" + product_df['product_description']\n",
        "product_df['combined_text'] = product_df['combined_text'].apply(lambda x: re.sub(r'\\s+', ' ', x).strip())\n"
      ],
      "metadata": {
        "colab": {
          "base_uri": "https://localhost:8080/"
        },
        "id": "_9kA5-mG1j5q",
        "outputId": "de3575f9-fa5e-413a-f718-d1ab878dddf9"
      },
      "id": "_9kA5-mG1j5q",
      "execution_count": 25,
      "outputs": [
        {
          "output_type": "stream",
          "name": "stderr",
          "text": [
            "[nltk_data] Downloading package stopwords to /root/nltk_data...\n",
            "[nltk_data]   Unzipping corpora/stopwords.zip.\n",
            "[nltk_data] Downloading package wordnet to /root/nltk_data...\n"
          ]
        }
      ]
    },
    {
      "cell_type": "markdown",
      "source": [
        "**<h4> Modeling Embeding Creation:**"
      ],
      "metadata": {
        "id": "dIylEnsF44Bt"
      },
      "id": "dIylEnsF44Bt"
    },
    {
      "cell_type": "markdown",
      "source": [
        "* Changing TF-IDF embeddings to OpenAI as it can capture the deeper semantic context of text, which is crucial for understanding the intent behind user queries.\n",
        "\n",
        "* Implimented batching approach considering OpenAI context window limitage.\n",
        "\n",
        "**Note:** To avoid the complexity i removed given tf-idf embeding logic."
      ],
      "metadata": {
        "id": "BlqgCIPc8PFl"
      },
      "id": "BlqgCIPc8PFl"
    },
    {
      "cell_type": "code",
      "source": [
        "# Set your OpenAI API key here\n",
        "openai.api_key = ' '"
      ],
      "metadata": {
        "id": "N9qLaRso-yUK"
      },
      "id": "N9qLaRso-yUK",
      "execution_count": 34,
      "outputs": []
    },
    {
      "cell_type": "code",
      "source": [
        "def calculate_embeddings(dataframe, batch_size=70):\n",
        "    \"\"\"\n",
        "    Calculate embeddings for combined product name and description using OpenAI's model,\n",
        "    processing the data in batches to avoid exceeding API limits.\n",
        "\n",
        "    Parameters:\n",
        "    dataframe (pd.DataFrame): DataFrame with product_id, product_name, product_description, and other product information.\n",
        "    batch_size (int): Number of records to process in each batch.\n",
        "\n",
        "    Returns:\n",
        "    np.array: Array of embeddings for the products.\n",
        "    \"\"\"\n",
        "    # Combine product name and description\n",
        "    combined_text = dataframe['combined_text']\n",
        "    # Initialize an empty list to store all embeddings\n",
        "    all_embeddings = []\n",
        "\n",
        "    # Process each batch\n",
        "    for i in range(0, len(combined_text), batch_size):\n",
        "        batch_texts = combined_text[i:i + batch_size].tolist()\n",
        "        embeddings = get_openai_embeddings(batch_texts)\n",
        "        if embeddings is not None:\n",
        "            all_embeddings.append(embeddings)\n",
        "\n",
        "    # Concatenate all embeddings arrays together\n",
        "    return np.concatenate(all_embeddings, axis=0)\n",
        "\n",
        "def get_openai_embeddings(texts):\n",
        "    \"\"\"\n",
        "    Get embeddings for a list of texts using OpenAI's API, ensuring proper JSON formatting.\n",
        "    \"\"\"\n",
        "    try:\n",
        "        response = openai.Embedding.create(\n",
        "            input=texts,\n",
        "            model=\"text-embedding-ada-002\"\n",
        "        )\n",
        "        # Extract embeddings and convert to a numpy array\n",
        "        embeddings = [data['embedding'] for data in response['data']]\n",
        "        return np.array(embeddings)\n",
        "    except Exception as e:\n",
        "        print(\"Failed to fetch embeddings:\", str(e))\n",
        "        return None\n"
      ],
      "metadata": {
        "id": "Aa8PGVoq8Nfb"
      },
      "id": "Aa8PGVoq8Nfb",
      "execution_count": 35,
      "outputs": []
    },
    {
      "cell_type": "markdown",
      "source": [
        "**<h4> Similarity Search: :**\n",
        "\n",
        "* Using embeddings implementing a search function that computes cosine similarities between query embeddings and product embeddings to retrieve the top products."
      ],
      "metadata": {
        "id": "fSLIO0Jc9LFt"
      },
      "id": "fSLIO0Jc9LFt"
    },
    {
      "cell_type": "code",
      "source": [
        "product_embeddings=calculate_embeddings(product_df)"
      ],
      "metadata": {
        "id": "w34la7bG9ScM"
      },
      "id": "w34la7bG9ScM",
      "execution_count": 36,
      "outputs": []
    },
    {
      "cell_type": "code",
      "source": [
        "def get_top_product_ids_for_query(product_embeddings, query, top_n=10):\n",
        "    \"\"\"\n",
        "    Get top N products for a given query based on embedding similarity.\n",
        "\n",
        "    Parameters:\n",
        "    product_embeddings (np.array): Precomputed embeddings for products.\n",
        "    query (str): Search query.\n",
        "    top_n (int): Number of top products to return.\n",
        "\n",
        "    Returns:\n",
        "    np.array: Indices of the top N product embeddings most similar to the query.\n",
        "    \"\"\"\n",
        "    # Convert query to embedding\n",
        "    query_embedding = get_openai_embeddings([query])[0]  # Assume single query\n",
        "    #print(query_embedding)\n",
        "    # Calculate cosine similarities\n",
        "    cosine_similarities = cosine_similarity([query_embedding], product_embeddings).flatten()\n",
        "    # Find top N products\n",
        "    top_product_indices = cosine_similarities.argsort()[-top_n:][::-1]\n",
        "    return top_product_indices\n",
        "\n",
        "#define the test query\n",
        "query = \"armchair\"\n",
        "\n",
        "#obtain top product IDs\n",
        "top_product_ids = get_top_product_ids_for_query(product_embeddings,query)\n",
        "\n",
        "print(f\"Top products for '{query}':\")\n",
        "for product_id in top_product_ids:\n",
        "    product = product_df.loc[product_df['product_id'] == product_id]\n",
        "    print(product_id, product['product_name'].values[0])"
      ],
      "metadata": {
        "colab": {
          "base_uri": "https://localhost:8080/"
        },
        "id": "-TswJuGi-8Hw",
        "outputId": "f1ff40eb-734f-4348-c995-dae721ff183f"
      },
      "id": "-TswJuGi-8Hw",
      "execution_count": 37,
      "outputs": [
        {
          "output_type": "stream",
          "name": "stdout",
          "text": [
            "Top products for 'armchair':\n",
            "29626 armchair\n",
            "25745 johannes 29.1 '' wide armchair\n",
            "28850 callie armchair\n",
            "36059 arm chair in blue\n",
            "26978 orchard hill 20.47 '' wide armchair\n",
            "19159 dandir 50 '' wide armchair\n",
            "37322 28.5 '' wide polyester armchair\n",
            "42392 killingly armchair\n",
            "1230 faux leather armchair\n",
            "10777 crutchfield 33.5 '' wide top grain leather armchair\n"
          ]
        }
      ]
    },
    {
      "cell_type": "markdown",
      "source": [
        "**<h4> Evaluation:**"
      ],
      "metadata": {
        "id": "dhriOUZH_CFC"
      },
      "id": "dhriOUZH_CFC"
    },
    {
      "cell_type": "code",
      "source": [
        "#define functions for evaluating retrieval performance\n",
        "def map_at_k(true_ids, predicted_ids, k=10):\n",
        "    \"\"\"\n",
        "    Calculate the Mean Average Precision at K (MAP@K).\n",
        "\n",
        "    Parameters:\n",
        "    true_ids (list): List of relevant product IDs.\n",
        "    predicted_ids (list): List of predicted product IDs.\n",
        "    k (int): Number of top elements to consider.\n",
        "             NOTE: IF you wish to change top k, please provide a justification for choosing the new value\n",
        "\n",
        "    Returns:\n",
        "    float: MAP@K score.\n",
        "    \"\"\"\n",
        "    #if either list is empty, return 0\n",
        "    if not len(true_ids) or not len(predicted_ids):\n",
        "        return 0.0\n",
        "\n",
        "    score = 0.0\n",
        "    num_hits = 0.0\n",
        "\n",
        "    for i, p_id in enumerate(predicted_ids[:k]):\n",
        "        if p_id in true_ids and p_id not in predicted_ids[:i]:\n",
        "            num_hits += 1.0\n",
        "            score += num_hits / (i + 1.0)\n",
        "\n",
        "    return score / min(len(true_ids), k)"
      ],
      "metadata": {
        "id": "Krt4_uuc_JXn"
      },
      "id": "Krt4_uuc_JXn",
      "execution_count": 38,
      "outputs": []
    },
    {
      "cell_type": "code",
      "source": [
        "grouped_label_df = label_df.groupby('query_id')"
      ],
      "metadata": {
        "id": "75nNG_qK_QRD"
      },
      "id": "75nNG_qK_QRD",
      "execution_count": 39,
      "outputs": []
    },
    {
      "cell_type": "code",
      "source": [
        "#implementing a function to retrieve exact match product IDs for a query_id\n",
        "def get_exact_matches_for_query(query_id):\n",
        "    query_group = grouped_label_df.get_group(query_id)\n",
        "    exact_matches = query_group.loc[query_group['label'] == 'Exact']['product_id'].values\n",
        "    return exact_matches\n",
        "\n",
        "#applying the function to obtain top product IDs and adding top K product IDs to the dataframe\n",
        "#query_df['top_product_ids'] = query_df['query'].apply(get_top_product_ids_for_query)\n",
        "query_df['top_product_ids'] = query_df['query'].apply(lambda query: get_top_product_ids_for_query(product_embeddings, query))\n",
        "\n",
        "\n",
        "#adding the list of exact match product_IDs from labels_df\n",
        "query_df['relevant_ids'] = query_df['query_id'].apply(get_exact_matches_for_query)\n",
        "\n",
        "#now assign the map@k score\n",
        "query_df['map@k'] = query_df.apply(lambda x: map_at_k(x['relevant_ids'], x['top_product_ids'], k=10), axis=1)"
      ],
      "metadata": {
        "id": "1egSTpAf_VFK"
      },
      "id": "1egSTpAf_VFK",
      "execution_count": 40,
      "outputs": []
    },
    {
      "cell_type": "code",
      "source": [
        "# calculate the MAP across the entire query set\n",
        "query_df.loc[:, 'map@k'].mean()"
      ],
      "metadata": {
        "colab": {
          "base_uri": "https://localhost:8080/"
        },
        "id": "EBFwwq8-_acF",
        "outputId": "45853ea0-7bb6-4c72-9390-e3bbac73f87d"
      },
      "id": "EBFwwq8-_acF",
      "execution_count": 41,
      "outputs": [
        {
          "output_type": "execute_result",
          "data": {
            "text/plain": [
              "0.4042485164976484"
            ]
          },
          "metadata": {},
          "execution_count": 41
        }
      ]
    },
    {
      "cell_type": "markdown",
      "source": [
        "**New Evaluation Function Weighted Mean Average Precision (Weighted MAP):**\n",
        "\n",
        "* This function helps to address the issue of partial matches being treated as irrelevant.\n",
        "* Similar to the standard MAP, but each hit (match) is weighted by its relevance score. If a product is a perfect match, it receives a weight of 1 and for partial matches receive weights according to their relevance scores.\n",
        "\n",
        "* Assign a fractional score to partial matches based on the degree of relevance. For instance, a 50% keyword overlap with the query might score 0.5, while a 25% overlap might score 0.25."
      ],
      "metadata": {
        "id": "W9OwgC49C5N1"
      },
      "id": "W9OwgC49C5N1"
    },
    {
      "cell_type": "code",
      "source": [
        "from sklearn.feature_extraction.text import TfidfVectorizer\n",
        "from sklearn.metrics.pairwise import cosine_similarity\n",
        "\n",
        "def get_partial_match_scores(query, products, threshold=0.1):\n",
        "    \"\"\"\n",
        "    Calculate partial match scores based on keyword overlap using cosine similarity.\n",
        "\n",
        "    Parameters:\n",
        "    query (str): The search query.\n",
        "    products (DataFrame): DataFrame containing product descriptions and IDs.\n",
        "    threshold (float): Minimum similarity score to consider as a partial match.\n",
        "\n",
        "    Returns:\n",
        "    dict: Dictionary of product IDs and their partial match scores.\n",
        "    \"\"\"\n",
        "    # Vectorize the query and the product descriptions\n",
        "    vectorizer = TfidfVectorizer()\n",
        "    combined_text = products['product_description'].tolist() + [query]\n",
        "    tfidf_matrix = vectorizer.fit_transform(combined_text)\n",
        "\n",
        "    # Calculate cosine similarities between the query and all products\n",
        "    cosine_sim = cosine_similarity(tfidf_matrix[-1], tfidf_matrix[:-1]).flatten()\n",
        "\n",
        "    # Filter products that meet the similarity threshold and assign scores\n",
        "    partial_matches = {products.iloc[i]['product_id']: cosine_sim[i] for i in range(len(cosine_sim)) if cosine_sim[i] > threshold}\n",
        "\n",
        "    return partial_matches\n",
        "\n",
        "# Usage\n",
        "partial_matches = get_partial_match_scores(query, product_df)\n"
      ],
      "metadata": {
        "id": "PZOUrIPxBvEb"
      },
      "id": "PZOUrIPxBvEb",
      "execution_count": 60,
      "outputs": []
    },
    {
      "cell_type": "code",
      "source": [
        "def weighted_map_at_k(true_ids, predicted_ids, k=10, partial_matches=None):\n",
        "    \"\"\"\n",
        "    Calculate the weighted Mean Average Precision at K (MAP@K) that accounts for partial matches.\n",
        "\n",
        "    Parameters:\n",
        "    true_ids (list): List of IDs considered as perfect matches.\n",
        "    predicted_ids (list): List of predicted product IDs from the search engine.\n",
        "    k (int): Number of top elements to consider.\n",
        "    partial_matches (dict): A dictionary mapping product IDs to a score reflecting the degree of partial match.\n",
        "\n",
        "    Returns:\n",
        "    float: Adjusted MAP@K score.\n",
        "    \"\"\"\n",
        "    if not len(true_ids) or not len(predicted_ids):\n",
        "        return 0.0\n",
        "\n",
        "    score = 0.0\n",
        "    num_hits = 0.0\n",
        "\n",
        "    for i, p_id in enumerate(predicted_ids[:k]):\n",
        "        if p_id in true_ids:\n",
        "            num_hits += 1.0\n",
        "            score += num_hits / (i + 1.0)\n",
        "        elif p_id in partial_matches:\n",
        "            # Add partial match score proportionally to its rank\n",
        "            num_hits += partial_matches[p_id]\n",
        "            score += num_hits / (i + 1.0)\n",
        "\n",
        "    return score / min(len(true_ids), k)\n",
        "\n"
      ],
      "metadata": {
        "id": "1wsaSgrnCL7H"
      },
      "id": "1wsaSgrnCL7H",
      "execution_count": 61,
      "outputs": []
    },
    {
      "cell_type": "code",
      "source": [
        "#implementing a function to retrieve exact match product IDs for a query_id\n",
        "def get_exact_matches_for_query(query_id):\n",
        "    query_group = grouped_label_df.get_group(query_id)\n",
        "    exact_matches = query_group.loc[query_group['label'] == 'Exact']['product_id'].values\n",
        "    return exact_matches\n",
        "\n",
        "#applying the function to obtain top product IDs and adding top K product IDs to the dataframe\n",
        "#query_df['top_product_ids'] = query_df['query'].apply(get_top_product_ids_for_query)\n",
        "query_df['top_product_ids'] = query_df['query'].apply(lambda query: get_top_product_ids_for_query(product_embeddings, query))\n",
        "\n",
        "\n",
        "#adding the list of exact match product_IDs from labels_df\n",
        "query_df['relevant_ids'] = query_df['query_id'].apply(get_exact_matches_for_query)\n",
        "\n",
        "#now assign the map@k score\n",
        "#query_df['map@k'] = query_df.apply(lambda x: adjusted_map_at_k(x['relevant_ids'], x['top_product_ids'], k=10), axis=1)\n",
        "\n",
        "# When applying the function, ensure partial_matches is passed correctly\n",
        "query_df['map@k'] = query_df.apply(lambda x: weighted_map_at_k(x['relevant_ids'], x['top_product_ids'], k=10, partial_matches=partial_matches), axis=1)"
      ],
      "metadata": {
        "id": "mXVaiJ6nDJNd"
      },
      "id": "mXVaiJ6nDJNd",
      "execution_count": 65,
      "outputs": []
    },
    {
      "cell_type": "code",
      "source": [
        "# calculate the MAP across the entire query set\n",
        "query_df.loc[:, 'map@k'].mean()"
      ],
      "metadata": {
        "colab": {
          "base_uri": "https://localhost:8080/"
        },
        "id": "4Ic5qSnhDUwe",
        "outputId": "05b73fc4-e11b-4eef-b1db-1734aed881ca"
      },
      "id": "4Ic5qSnhDUwe",
      "execution_count": 66,
      "outputs": [
        {
          "output_type": "execute_result",
          "data": {
            "text/plain": [
              "0.4072175704648924"
            ]
          },
          "metadata": {},
          "execution_count": 66
        }
      ]
    },
    {
      "cell_type": "markdown",
      "source": [
        "Note: As we don't have significant partial matches there is a little increment in the MAP score."
      ],
      "metadata": {
        "id": "XDXvDYScOpYt"
      },
      "id": "XDXvDYScOpYt"
    },
    {
      "cell_type": "markdown",
      "source": [
        "**Trade-offs**\n",
        "\n",
        "**Complexity:** Introducing weighted scores increases the complexity of the evaluation metric. Determining appropriate weights requires careful consideration and possibly additional data analysis.\n",
        "\n",
        "**Subjectivity:** The determination of what constitutes a partial match and how much it should be scored can be somewhat subjective and may require tuning based on user feedback or empirical data."
      ],
      "metadata": {
        "id": "5AOqvtRBLhRN"
      },
      "id": "5AOqvtRBLhRN"
    }
  ],
  "metadata": {
    "kernelspec": {
      "display_name": "conda_pytorch_p310",
      "language": "python",
      "name": "conda_pytorch_p310"
    },
    "language_info": {
      "codemirror_mode": {
        "name": "ipython",
        "version": 3
      },
      "file_extension": ".py",
      "mimetype": "text/x-python",
      "name": "python",
      "nbconvert_exporter": "python",
      "pygments_lexer": "ipython3",
      "version": "3.10.13"
    },
    "colab": {
      "provenance": []
    }
  },
  "nbformat": 4,
  "nbformat_minor": 5
}